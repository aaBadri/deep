{
  "nbformat": 4,
  "nbformat_minor": 0,
  "metadata": {
    "colab": {
      "provenance": [],
      "collapsed_sections": [
        "BtU1_oGddgPD"
      ],
      "authorship_tag": "ABX9TyPPhPE3mYkRMz9z8mI/yfgO",
      "include_colab_link": true
    },
    "kernelspec": {
      "name": "python3",
      "display_name": "Python 3"
    },
    "language_info": {
      "name": "python"
    }
  },
  "cells": [
    {
      "cell_type": "markdown",
      "metadata": {
        "id": "view-in-github",
        "colab_type": "text"
      },
      "source": [
        "<a href=\"https://colab.research.google.com/github/aabadri/deep/blob/master/mlp.ipynb\" target=\"_parent\"><img src=\"https://colab.research.google.com/assets/colab-badge.svg\" alt=\"Open In Colab\"/></a>"
      ]
    },
    {
      "cell_type": "code",
      "execution_count": 26,
      "metadata": {
        "id": "QtdqmXXyMZ-T"
      },
      "outputs": [],
      "source": [
        "import tensorflow as tf\n",
        "import pandas as pd"
      ]
    },
    {
      "cell_type": "markdown",
      "source": [
        "# Classification"
      ],
      "metadata": {
        "id": "BtU1_oGddgPD"
      }
    },
    {
      "cell_type": "code",
      "source": [
        "fashion_mnist = tf.keras.datasets.fashion_mnist.load_data()\n",
        "(X_train, y_train), (X_test, y_test) = fashion_mnist\n",
        "X_train, y_train, X_valid, y_valid = X_train[:-5000], y_train[:-5000], X_train[-5000:], y_train[-5000:]"
      ],
      "metadata": {
        "id": "VQtawHIENRWo"
      },
      "execution_count": 4,
      "outputs": []
    },
    {
      "cell_type": "code",
      "source": [
        "X_train, X_valid, X_test = X_train/255., X_valid/255., X_test/255."
      ],
      "metadata": {
        "id": "YumY3guTN8t5"
      },
      "execution_count": 7,
      "outputs": []
    },
    {
      "cell_type": "code",
      "source": [
        "y_train[0]"
      ],
      "metadata": {
        "colab": {
          "base_uri": "https://localhost:8080/"
        },
        "id": "J-fbp2S4QWu0",
        "outputId": "c7618643-4ee9-47a6-a3c7-8c9d9fbcdaf8"
      },
      "execution_count": 21,
      "outputs": [
        {
          "output_type": "execute_result",
          "data": {
            "text/plain": [
              "9"
            ]
          },
          "metadata": {},
          "execution_count": 21
        }
      ]
    },
    {
      "cell_type": "code",
      "source": [
        "class_names = [\"T-shirt/top\", \"Trouser\", \"Pullover\", \"Dress\", \"Coat\",\n",
        "\"Sandal\", \"Shirt\", \"Sneaker\", \"Bag\", \"Ankle boot\"]"
      ],
      "metadata": {
        "id": "nlmeKaDNOLs5"
      },
      "execution_count": 8,
      "outputs": []
    },
    {
      "cell_type": "code",
      "source": [
        "tf.random.set_seed(42)\n",
        "model = tf.keras.models.Sequential(\n",
        "    [\n",
        "        tf.keras.layers.Input([28, 28]),\n",
        "        tf.keras.layers.Flatten(name=\"flatten\"),\n",
        "        tf.keras.layers.Dense(300, activation=\"relu\",name=\"hidden1\"),\n",
        "        tf.keras.layers.Dense(100, activation=tf.keras.activations.relu, name=\"hidden2\"),\n",
        "        tf.keras.layers.Dense(10, activation=\"softmax\", name=\"output\"),\n",
        "    ]\n",
        ")"
      ],
      "metadata": {
        "id": "Bjg5IkzFMfgm"
      },
      "execution_count": 13,
      "outputs": []
    },
    {
      "cell_type": "code",
      "source": [
        "model.summary()"
      ],
      "metadata": {
        "colab": {
          "base_uri": "https://localhost:8080/"
        },
        "id": "lFuxJ6hJOQSX",
        "outputId": "7a278d5a-9884-49b9-88dd-c37f856d8fec"
      },
      "execution_count": 14,
      "outputs": [
        {
          "output_type": "stream",
          "name": "stdout",
          "text": [
            "Model: \"sequential_2\"\n",
            "_________________________________________________________________\n",
            " Layer (type)                Output Shape              Param #   \n",
            "=================================================================\n",
            " flatten (Flatten)           (None, 784)               0         \n",
            "                                                                 \n",
            " hidden1 (Dense)             (None, 300)               235500    \n",
            "                                                                 \n",
            " hidden2 (Dense)             (None, 100)               30100     \n",
            "                                                                 \n",
            " output (Dense)              (None, 10)                1010      \n",
            "                                                                 \n",
            "=================================================================\n",
            "Total params: 266610 (1.02 MB)\n",
            "Trainable params: 266610 (1.02 MB)\n",
            "Non-trainable params: 0 (0.00 Byte)\n",
            "_________________________________________________________________\n"
          ]
        }
      ]
    },
    {
      "cell_type": "code",
      "source": [
        "print(model.layers)\n",
        "print(model.layers[2].name)\n",
        "print(model.layers[2].get_weights())"
      ],
      "metadata": {
        "colab": {
          "base_uri": "https://localhost:8080/"
        },
        "id": "f69MtOvfOwqs",
        "outputId": "6f4abd06-0bac-4c2c-d2dc-583f21f55324"
      },
      "execution_count": 22,
      "outputs": [
        {
          "output_type": "stream",
          "name": "stdout",
          "text": [
            "[<keras.src.layers.reshaping.flatten.Flatten object at 0x7a8e5a593df0>, <keras.src.layers.core.dense.Dense object at 0x7a8e5a5916c0>, <keras.src.layers.core.dense.Dense object at 0x7a8e5d1c0430>, <keras.src.layers.core.dense.Dense object at 0x7a8e5d1c29e0>]\n",
            "hidden2\n",
            "[array([[ 0.03781457, -0.03183764,  0.07715686, ...,  0.0248028 ,\n",
            "        -0.03976643, -0.09968002],\n",
            "       [-0.00748515,  0.11331322, -0.05844781, ..., -0.07963109,\n",
            "         0.06343441, -0.09867699],\n",
            "       [ 0.00373929, -0.10192552,  0.102719  , ..., -0.02698711,\n",
            "        -0.10891108,  0.02650113],\n",
            "       ...,\n",
            "       [-0.0453606 , -0.06153561, -0.08530284, ..., -0.11640266,\n",
            "         0.05105329,  0.10429112],\n",
            "       [ 0.00894553,  0.01690943,  0.10189378, ..., -0.10844254,\n",
            "         0.09502266, -0.08328091],\n",
            "       [-0.07540357,  0.06610743,  0.00674071, ...,  0.0257444 ,\n",
            "        -0.01443905, -0.08250138]], dtype=float32), array([0., 0., 0., 0., 0., 0., 0., 0., 0., 0., 0., 0., 0., 0., 0., 0., 0.,\n",
            "       0., 0., 0., 0., 0., 0., 0., 0., 0., 0., 0., 0., 0., 0., 0., 0., 0.,\n",
            "       0., 0., 0., 0., 0., 0., 0., 0., 0., 0., 0., 0., 0., 0., 0., 0., 0.,\n",
            "       0., 0., 0., 0., 0., 0., 0., 0., 0., 0., 0., 0., 0., 0., 0., 0., 0.,\n",
            "       0., 0., 0., 0., 0., 0., 0., 0., 0., 0., 0., 0., 0., 0., 0., 0., 0.,\n",
            "       0., 0., 0., 0., 0., 0., 0., 0., 0., 0., 0., 0., 0., 0., 0.],\n",
            "      dtype=float32)]\n"
          ]
        }
      ]
    },
    {
      "cell_type": "code",
      "source": [
        "model.compile(\n",
        "    loss=tf.keras.losses.sparse_categorical_crossentropy,\n",
        "    optimizer = tf.keras.optimizers.SGD(learning_rate=0.01),\n",
        "    metrics = [tf.keras.metrics.sparse_categorical_accuracy]\n",
        ")"
      ],
      "metadata": {
        "id": "AMIet8hlPZfw"
      },
      "execution_count": 23,
      "outputs": []
    },
    {
      "cell_type": "code",
      "source": [
        "history = model.fit(\n",
        "    X_train, y_train, epochs=30, validation_data=(X_valid, y_valid)\n",
        ")"
      ],
      "metadata": {
        "colab": {
          "base_uri": "https://localhost:8080/"
        },
        "id": "3VN4FspNSJ69",
        "outputId": "f6dc228f-8318-4b40-96ea-986042ace5a4"
      },
      "execution_count": 24,
      "outputs": [
        {
          "output_type": "stream",
          "name": "stdout",
          "text": [
            "Epoch 1/30\n",
            "1719/1719 [==============================] - 8s 4ms/step - loss: 0.7332 - sparse_categorical_accuracy: 0.7595 - val_loss: 0.4999 - val_sparse_categorical_accuracy: 0.8296\n",
            "Epoch 2/30\n",
            "1719/1719 [==============================] - 7s 4ms/step - loss: 0.4889 - sparse_categorical_accuracy: 0.8317 - val_loss: 0.4482 - val_sparse_categorical_accuracy: 0.8388\n",
            "Epoch 3/30\n",
            "1719/1719 [==============================] - 7s 4ms/step - loss: 0.4410 - sparse_categorical_accuracy: 0.8465 - val_loss: 0.4140 - val_sparse_categorical_accuracy: 0.8522\n",
            "Epoch 4/30\n",
            "1719/1719 [==============================] - 6s 4ms/step - loss: 0.4143 - sparse_categorical_accuracy: 0.8545 - val_loss: 0.3937 - val_sparse_categorical_accuracy: 0.8558\n",
            "Epoch 5/30\n",
            "1719/1719 [==============================] - 7s 4ms/step - loss: 0.3940 - sparse_categorical_accuracy: 0.8615 - val_loss: 0.4017 - val_sparse_categorical_accuracy: 0.8592\n",
            "Epoch 6/30\n",
            "1719/1719 [==============================] - 6s 3ms/step - loss: 0.3788 - sparse_categorical_accuracy: 0.8663 - val_loss: 0.3761 - val_sparse_categorical_accuracy: 0.8640\n",
            "Epoch 7/30\n",
            "1719/1719 [==============================] - 7s 4ms/step - loss: 0.3666 - sparse_categorical_accuracy: 0.8703 - val_loss: 0.3789 - val_sparse_categorical_accuracy: 0.8598\n",
            "Epoch 8/30\n",
            "1719/1719 [==============================] - 6s 4ms/step - loss: 0.3541 - sparse_categorical_accuracy: 0.8740 - val_loss: 0.3600 - val_sparse_categorical_accuracy: 0.8690\n",
            "Epoch 9/30\n",
            "1719/1719 [==============================] - 7s 4ms/step - loss: 0.3438 - sparse_categorical_accuracy: 0.8778 - val_loss: 0.3563 - val_sparse_categorical_accuracy: 0.8724\n",
            "Epoch 10/30\n",
            "1719/1719 [==============================] - 7s 4ms/step - loss: 0.3339 - sparse_categorical_accuracy: 0.8815 - val_loss: 0.3527 - val_sparse_categorical_accuracy: 0.8738\n",
            "Epoch 11/30\n",
            "1719/1719 [==============================] - 6s 3ms/step - loss: 0.3261 - sparse_categorical_accuracy: 0.8828 - val_loss: 0.3486 - val_sparse_categorical_accuracy: 0.8758\n",
            "Epoch 12/30\n",
            "1719/1719 [==============================] - 7s 4ms/step - loss: 0.3179 - sparse_categorical_accuracy: 0.8862 - val_loss: 0.3383 - val_sparse_categorical_accuracy: 0.8768\n",
            "Epoch 13/30\n",
            "1719/1719 [==============================] - 6s 3ms/step - loss: 0.3099 - sparse_categorical_accuracy: 0.8887 - val_loss: 0.3312 - val_sparse_categorical_accuracy: 0.8828\n",
            "Epoch 14/30\n",
            "1719/1719 [==============================] - 7s 4ms/step - loss: 0.3034 - sparse_categorical_accuracy: 0.8918 - val_loss: 0.3538 - val_sparse_categorical_accuracy: 0.8758\n",
            "Epoch 15/30\n",
            "1719/1719 [==============================] - 6s 3ms/step - loss: 0.2965 - sparse_categorical_accuracy: 0.8938 - val_loss: 0.3435 - val_sparse_categorical_accuracy: 0.8760\n",
            "Epoch 16/30\n",
            "1719/1719 [==============================] - 7s 4ms/step - loss: 0.2903 - sparse_categorical_accuracy: 0.8962 - val_loss: 0.3641 - val_sparse_categorical_accuracy: 0.8748\n",
            "Epoch 17/30\n",
            "1719/1719 [==============================] - 6s 3ms/step - loss: 0.2853 - sparse_categorical_accuracy: 0.8971 - val_loss: 0.3273 - val_sparse_categorical_accuracy: 0.8824\n",
            "Epoch 18/30\n",
            "1719/1719 [==============================] - 7s 4ms/step - loss: 0.2805 - sparse_categorical_accuracy: 0.8987 - val_loss: 0.3342 - val_sparse_categorical_accuracy: 0.8800\n",
            "Epoch 19/30\n",
            "1719/1719 [==============================] - 6s 4ms/step - loss: 0.2738 - sparse_categorical_accuracy: 0.9007 - val_loss: 0.3198 - val_sparse_categorical_accuracy: 0.8864\n",
            "Epoch 20/30\n",
            "1719/1719 [==============================] - 7s 4ms/step - loss: 0.2689 - sparse_categorical_accuracy: 0.9028 - val_loss: 0.3232 - val_sparse_categorical_accuracy: 0.8814\n",
            "Epoch 21/30\n",
            "1719/1719 [==============================] - 6s 3ms/step - loss: 0.2646 - sparse_categorical_accuracy: 0.9053 - val_loss: 0.3282 - val_sparse_categorical_accuracy: 0.8844\n",
            "Epoch 22/30\n",
            "1719/1719 [==============================] - 8s 5ms/step - loss: 0.2596 - sparse_categorical_accuracy: 0.9063 - val_loss: 0.3264 - val_sparse_categorical_accuracy: 0.8856\n",
            "Epoch 23/30\n",
            "1719/1719 [==============================] - 6s 3ms/step - loss: 0.2556 - sparse_categorical_accuracy: 0.9076 - val_loss: 0.3159 - val_sparse_categorical_accuracy: 0.8832\n",
            "Epoch 24/30\n",
            "1719/1719 [==============================] - 7s 4ms/step - loss: 0.2512 - sparse_categorical_accuracy: 0.9095 - val_loss: 0.3182 - val_sparse_categorical_accuracy: 0.8794\n",
            "Epoch 25/30\n",
            "1719/1719 [==============================] - 6s 4ms/step - loss: 0.2467 - sparse_categorical_accuracy: 0.9123 - val_loss: 0.3183 - val_sparse_categorical_accuracy: 0.8856\n",
            "Epoch 26/30\n",
            "1719/1719 [==============================] - 7s 4ms/step - loss: 0.2435 - sparse_categorical_accuracy: 0.9120 - val_loss: 0.3282 - val_sparse_categorical_accuracy: 0.8826\n",
            "Epoch 27/30\n",
            "1719/1719 [==============================] - 7s 4ms/step - loss: 0.2389 - sparse_categorical_accuracy: 0.9138 - val_loss: 0.3174 - val_sparse_categorical_accuracy: 0.8826\n",
            "Epoch 28/30\n",
            "1719/1719 [==============================] - 6s 4ms/step - loss: 0.2341 - sparse_categorical_accuracy: 0.9157 - val_loss: 0.3218 - val_sparse_categorical_accuracy: 0.8826\n",
            "Epoch 29/30\n",
            "1719/1719 [==============================] - 6s 3ms/step - loss: 0.2315 - sparse_categorical_accuracy: 0.9170 - val_loss: 0.3237 - val_sparse_categorical_accuracy: 0.8822\n",
            "Epoch 30/30\n",
            "1719/1719 [==============================] - 6s 4ms/step - loss: 0.2269 - sparse_categorical_accuracy: 0.9185 - val_loss: 0.3135 - val_sparse_categorical_accuracy: 0.8846\n"
          ]
        }
      ]
    },
    {
      "cell_type": "code",
      "source": [
        "pd.DataFrame(history.history).plot(\n",
        "    figsize=(8, 5), xlim=[0, 29], ylim=[0, 1], grid=True, xlabel=\"Epoch\",\n",
        "    style=[\"r--\", \"r--.\", \"b-\", \"b-*\"])"
      ],
      "metadata": {
        "colab": {
          "base_uri": "https://localhost:8080/",
          "height": 488
        },
        "id": "3_4H029YSkq2",
        "outputId": "863db821-c87c-4e7c-d037-a37fe60c23e7"
      },
      "execution_count": 29,
      "outputs": [
        {
          "output_type": "execute_result",
          "data": {
            "text/plain": [
              "<Axes: xlabel='Epoch'>"
            ]
          },
          "metadata": {},
          "execution_count": 29
        },
        {
          "output_type": "display_data",
          "data": {
            "text/plain": [
              "<Figure size 800x500 with 1 Axes>"
            ],
            "image/png": "[encoded data removed]"
          },
          "metadata": {}
        }
      ]
    },
    {
      "cell_type": "code",
      "source": [
        "model.evaluate(X_test, y_test)"
      ],
      "metadata": {
        "colab": {
          "base_uri": "https://localhost:8080/"
        },
        "id": "Kou6SetGVOyj",
        "outputId": "bb368df5-9d0f-4282-b5d3-3ba29e39473a"
      },
      "execution_count": 30,
      "outputs": [
        {
          "output_type": "stream",
          "name": "stdout",
          "text": [
            "313/313 [==============================] - 1s 2ms/step - loss: 0.3316 - sparse_categorical_accuracy: 0.8811\n"
          ]
        },
        {
          "output_type": "execute_result",
          "data": {
            "text/plain": [
              "[0.3316119909286499, 0.8810999989509583]"
            ]
          },
          "metadata": {},
          "execution_count": 30
        }
      ]
    },
    {
      "cell_type": "code",
      "source": [
        "model.predict(X_test[0:1]).round(2)"
      ],
      "metadata": {
        "colab": {
          "base_uri": "https://localhost:8080/"
        },
        "id": "z03zlr3DXZje",
        "outputId": "776f96af-3b64-4918-c6e3-e5f262858395"
      },
      "execution_count": 38,
      "outputs": [
        {
          "output_type": "stream",
          "name": "stdout",
          "text": [
            "1/1 [==============================] - 0s 22ms/step\n"
          ]
        },
        {
          "output_type": "execute_result",
          "data": {
            "text/plain": [
              "array([[0.  , 0.  , 0.  , 0.  , 0.  , 0.01, 0.  , 0.  , 0.  , 0.99]],\n",
              "      dtype=float32)"
            ]
          },
          "metadata": {},
          "execution_count": 38
        }
      ]
    },
    {
      "cell_type": "code",
      "source": [
        "model.predict(X_test[0:3]).round(2).argmax(axis=-1), y_test[:3]"
      ],
      "metadata": {
        "colab": {
          "base_uri": "https://localhost:8080/"
        },
        "id": "o73c5hZsXw_a",
        "outputId": "9664638b-3972-431a-9321-1efd360d4964"
      },
      "execution_count": 44,
      "outputs": [
        {
          "output_type": "stream",
          "name": "stdout",
          "text": [
            "1/1 [==============================] - 0s 22ms/step\n"
          ]
        },
        {
          "output_type": "execute_result",
          "data": {
            "text/plain": [
              "(array([9, 2, 1]), array([9, 2, 1], dtype=uint8))"
            ]
          },
          "metadata": {},
          "execution_count": 44
        }
      ]
    },
    {
      "cell_type": "markdown",
      "source": [
        "# Regression"
      ],
      "metadata": {
        "id": "IKN5Zd0BdZOR"
      }
    },
    {
      "cell_type": "code",
      "source": [
        "from sklearn.datasets import fetch_california_housing\n",
        "from sklearn.model_selection import train_test_split"
      ],
      "metadata": {
        "id": "CJfHvRlcdIm6"
      },
      "execution_count": 46,
      "outputs": []
    },
    {
      "cell_type": "code",
      "source": [
        "housing = fetch_california_housing()\n",
        "X_train_full, X_test, y_train_full, y_test = train_test_split(\n",
        "    housing.data, housing.target, random_state=42)\n",
        "X_train, X_valid, y_train, y_valid = train_test_split(\n",
        "    X_train_full, y_train_full, random_state=42)"
      ],
      "metadata": {
        "id": "EqGT5MRadMsS"
      },
      "execution_count": 47,
      "outputs": []
    },
    {
      "cell_type": "code",
      "source": [
        "tf.random.set_seed(42)\n",
        "norm_layer = tf.keras.layers.Normalization(input_shape=X_train.shape[1:])\n",
        "model = tf.keras.Sequential([\n",
        "    norm_layer,\n",
        "    tf.keras.layers.Dense(50, activation=\"relu\"),\n",
        "    tf.keras.layers.Dense(50, activation=\"relu\"),\n",
        "    tf.keras.layers.Dense(50, activation=\"relu\"),\n",
        "    tf.keras.layers.Dense(1)\n",
        "])\n",
        "optimizer = tf.keras.optimizers.Adam(learning_rate=1e-3)\n",
        "model.compile(loss=\"mse\", optimizer=optimizer, metrics=[\"RootMeanSquaredError\"])\n",
        "norm_layer.adapt(X_train)\n",
        "history = model.fit(X_train, y_train, epochs=20,\n",
        "                    validation_data=(X_valid, y_valid))"
      ],
      "metadata": {
        "colab": {
          "base_uri": "https://localhost:8080/"
        },
        "id": "eYJ_cy8ve_Nm",
        "outputId": "27a658d4-08cf-404d-da02-8d4528a836ad"
      },
      "execution_count": 49,
      "outputs": [
        {
          "output_type": "stream",
          "name": "stdout",
          "text": [
            "Epoch 1/20\n",
            "363/363 [==============================] - 2s 3ms/step - loss: 0.8537 - root_mean_squared_error: 0.9240 - val_loss: 0.5181 - val_root_mean_squared_error: 0.7198\n",
            "Epoch 2/20\n",
            "363/363 [==============================] - 1s 3ms/step - loss: 0.3822 - root_mean_squared_error: 0.6182 - val_loss: 0.6394 - val_root_mean_squared_error: 0.7996\n",
            "Epoch 3/20\n",
            "363/363 [==============================] - 1s 2ms/step - loss: 0.3524 - root_mean_squared_error: 0.5936 - val_loss: 0.3174 - val_root_mean_squared_error: 0.5634\n",
            "Epoch 4/20\n",
            "363/363 [==============================] - 1s 3ms/step - loss: 0.3370 - root_mean_squared_error: 0.5805 - val_loss: 0.3853 - val_root_mean_squared_error: 0.6207\n",
            "Epoch 5/20\n",
            "363/363 [==============================] - 1s 4ms/step - loss: 0.3243 - root_mean_squared_error: 0.5695 - val_loss: 0.5140 - val_root_mean_squared_error: 0.7169\n",
            "Epoch 6/20\n",
            "363/363 [==============================] - 2s 5ms/step - loss: 0.3192 - root_mean_squared_error: 0.5649 - val_loss: 0.4268 - val_root_mean_squared_error: 0.6533\n",
            "Epoch 7/20\n",
            "363/363 [==============================] - 1s 2ms/step - loss: 0.3093 - root_mean_squared_error: 0.5561 - val_loss: 0.8667 - val_root_mean_squared_error: 0.9310\n",
            "Epoch 8/20\n",
            "363/363 [==============================] - 1s 3ms/step - loss: 0.3056 - root_mean_squared_error: 0.5528 - val_loss: 0.4768 - val_root_mean_squared_error: 0.6905\n",
            "Epoch 9/20\n",
            "363/363 [==============================] - 1s 3ms/step - loss: 0.2990 - root_mean_squared_error: 0.5468 - val_loss: 0.7135 - val_root_mean_squared_error: 0.8447\n",
            "Epoch 10/20\n",
            "363/363 [==============================] - 2s 4ms/step - loss: 0.2981 - root_mean_squared_error: 0.5460 - val_loss: 0.2936 - val_root_mean_squared_error: 0.5419\n",
            "Epoch 11/20\n",
            "363/363 [==============================] - 1s 4ms/step - loss: 0.2894 - root_mean_squared_error: 0.5380 - val_loss: 0.5343 - val_root_mean_squared_error: 0.7310\n",
            "Epoch 12/20\n",
            "363/363 [==============================] - 1s 3ms/step - loss: 0.2988 - root_mean_squared_error: 0.5467 - val_loss: 0.3080 - val_root_mean_squared_error: 0.5550\n",
            "Epoch 13/20\n",
            "363/363 [==============================] - 1s 3ms/step - loss: 0.2826 - root_mean_squared_error: 0.5316 - val_loss: 0.2954 - val_root_mean_squared_error: 0.5435\n",
            "Epoch 14/20\n",
            "363/363 [==============================] - 1s 2ms/step - loss: 0.2807 - root_mean_squared_error: 0.5299 - val_loss: 0.3289 - val_root_mean_squared_error: 0.5735\n",
            "Epoch 15/20\n",
            "363/363 [==============================] - 1s 2ms/step - loss: 0.2822 - root_mean_squared_error: 0.5312 - val_loss: 0.2833 - val_root_mean_squared_error: 0.5323\n",
            "Epoch 16/20\n",
            "363/363 [==============================] - 1s 4ms/step - loss: 0.2777 - root_mean_squared_error: 0.5270 - val_loss: 0.3604 - val_root_mean_squared_error: 0.6004\n",
            "Epoch 17/20\n",
            "363/363 [==============================] - 1s 4ms/step - loss: 0.2764 - root_mean_squared_error: 0.5258 - val_loss: 0.2932 - val_root_mean_squared_error: 0.5415\n",
            "Epoch 18/20\n",
            "363/363 [==============================] - 1s 2ms/step - loss: 0.2744 - root_mean_squared_error: 0.5239 - val_loss: 0.2862 - val_root_mean_squared_error: 0.5350\n",
            "Epoch 19/20\n",
            "363/363 [==============================] - 1s 3ms/step - loss: 0.2693 - root_mean_squared_error: 0.5190 - val_loss: 0.3266 - val_root_mean_squared_error: 0.5714\n",
            "Epoch 20/20\n",
            "363/363 [==============================] - 1s 3ms/step - loss: 0.2696 - root_mean_squared_error: 0.5192 - val_loss: 0.3199 - val_root_mean_squared_error: 0.5656\n"
          ]
        }
      ]
    },
    {
      "cell_type": "code",
      "source": [
        "mse_test, rmse_test = model.evaluate(X_test, y_test)\n",
        "model.predict(X_test[:3]), y_test[:3]"
      ],
      "metadata": {
        "colab": {
          "base_uri": "https://localhost:8080/"
        },
        "id": "AFRJcZbYfc6b",
        "outputId": "72fe92f2-5be4-47e0-d42b-03aa734c5c7e"
      },
      "execution_count": 51,
      "outputs": [
        {
          "output_type": "stream",
          "name": "stdout",
          "text": [
            "162/162 [==============================] - 1s 5ms/step - loss: 0.2853 - root_mean_squared_error: 0.5342\n",
            "1/1 [==============================] - 0s 31ms/step\n"
          ]
        },
        {
          "output_type": "execute_result",
          "data": {
            "text/plain": [
              "(array([[0.5019194],\n",
              "        [1.2287937],\n",
              "        [5.146706 ]], dtype=float32),\n",
              " array([0.477  , 0.458  , 5.00001]))"
            ]
          },
          "metadata": {},
          "execution_count": 51
        }
      ]
    }
  ]
}